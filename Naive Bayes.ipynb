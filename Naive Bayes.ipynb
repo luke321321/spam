{
 "cells": [
  {
   "cell_type": "markdown",
   "metadata": {},
   "source": [
    "# Naive Bayes Classifier"
   ]
  },
  {
   "cell_type": "markdown",
   "metadata": {},
   "source": [
    "A naive Bayes classifier for detecting spam SMS.  Examples with both a multi-variate Bernoulli event model and a multinomial event model.\n",
    "\n",
    "Uses SMS Spam Collection v.1 from https://archive.ics.uci.edu/ml/datasets/sms+spam+collection.  A collection of 5572 SMS text messages with 4,827 SMS legitimate messages (86.6%) and a total of 747 (13.4%) spam messages."
   ]
  },
  {
   "cell_type": "code",
   "execution_count": 1,
   "metadata": {},
   "outputs": [],
   "source": [
    "import pandas as pd\n",
    "import re"
   ]
  },
  {
   "cell_type": "code",
   "execution_count": 2,
   "metadata": {},
   "outputs": [
    {
     "data": {
      "text/html": [
       "<div>\n",
       "<style scoped>\n",
       "    .dataframe tbody tr th:only-of-type {\n",
       "        vertical-align: middle;\n",
       "    }\n",
       "\n",
       "    .dataframe tbody tr th {\n",
       "        vertical-align: top;\n",
       "    }\n",
       "\n",
       "    .dataframe thead th {\n",
       "        text-align: right;\n",
       "    }\n",
       "</style>\n",
       "<table border=\"1\" class=\"dataframe\">\n",
       "  <thead>\n",
       "    <tr style=\"text-align: right;\">\n",
       "      <th></th>\n",
       "      <th>0</th>\n",
       "      <th>1</th>\n",
       "    </tr>\n",
       "  </thead>\n",
       "  <tbody>\n",
       "    <tr>\n",
       "      <th>0</th>\n",
       "      <td>ham</td>\n",
       "      <td>Go until jurong point, crazy.. Available only ...</td>\n",
       "    </tr>\n",
       "    <tr>\n",
       "      <th>1</th>\n",
       "      <td>ham</td>\n",
       "      <td>Ok lar... Joking wif u oni...</td>\n",
       "    </tr>\n",
       "    <tr>\n",
       "      <th>2</th>\n",
       "      <td>spam</td>\n",
       "      <td>Free entry in 2 a wkly comp to win FA Cup fina...</td>\n",
       "    </tr>\n",
       "    <tr>\n",
       "      <th>3</th>\n",
       "      <td>ham</td>\n",
       "      <td>U dun say so early hor... U c already then say...</td>\n",
       "    </tr>\n",
       "    <tr>\n",
       "      <th>4</th>\n",
       "      <td>ham</td>\n",
       "      <td>Nah I don't think he goes to usf, he lives aro...</td>\n",
       "    </tr>\n",
       "  </tbody>\n",
       "</table>\n",
       "</div>"
      ],
      "text/plain": [
       "      0                                                  1\n",
       "0   ham  Go until jurong point, crazy.. Available only ...\n",
       "1   ham                      Ok lar... Joking wif u oni...\n",
       "2  spam  Free entry in 2 a wkly comp to win FA Cup fina...\n",
       "3   ham  U dun say so early hor... U c already then say...\n",
       "4   ham  Nah I don't think he goes to usf, he lives aro..."
      ]
     },
     "execution_count": 2,
     "metadata": {},
     "output_type": "execute_result"
    }
   ],
   "source": [
    "df = pd.read_csv(\"data\\SMSSpamCollection\", sep='\\t', header=None)\n",
    "df.head()"
   ]
  },
  {
   "cell_type": "code",
   "execution_count": 3,
   "metadata": {},
   "outputs": [
    {
     "data": {
      "text/html": [
       "<div>\n",
       "<style scoped>\n",
       "    .dataframe tbody tr th:only-of-type {\n",
       "        vertical-align: middle;\n",
       "    }\n",
       "\n",
       "    .dataframe tbody tr th {\n",
       "        vertical-align: top;\n",
       "    }\n",
       "\n",
       "    .dataframe thead th {\n",
       "        text-align: right;\n",
       "    }\n",
       "</style>\n",
       "<table border=\"1\" class=\"dataframe\">\n",
       "  <thead>\n",
       "    <tr style=\"text-align: right;\">\n",
       "      <th></th>\n",
       "      <th>0</th>\n",
       "      <th>1</th>\n",
       "    </tr>\n",
       "  </thead>\n",
       "  <tbody>\n",
       "    <tr>\n",
       "      <th>count</th>\n",
       "      <td>5572</td>\n",
       "      <td>5572</td>\n",
       "    </tr>\n",
       "    <tr>\n",
       "      <th>unique</th>\n",
       "      <td>2</td>\n",
       "      <td>5169</td>\n",
       "    </tr>\n",
       "    <tr>\n",
       "      <th>top</th>\n",
       "      <td>ham</td>\n",
       "      <td>Sorry, I'll call later</td>\n",
       "    </tr>\n",
       "    <tr>\n",
       "      <th>freq</th>\n",
       "      <td>4825</td>\n",
       "      <td>30</td>\n",
       "    </tr>\n",
       "  </tbody>\n",
       "</table>\n",
       "</div>"
      ],
      "text/plain": [
       "           0                       1\n",
       "count   5572                    5572\n",
       "unique     2                    5169\n",
       "top      ham  Sorry, I'll call later\n",
       "freq    4825                      30"
      ]
     },
     "execution_count": 3,
     "metadata": {},
     "output_type": "execute_result"
    }
   ],
   "source": [
    "df.describe()"
   ]
  },
  {
   "cell_type": "markdown",
   "metadata": {},
   "source": [
    "Remove all uppercase SMS messages"
   ]
  },
  {
   "cell_type": "code",
   "execution_count": 4,
   "metadata": {},
   "outputs": [
    {
     "data": {
      "text/html": [
       "<div>\n",
       "<style scoped>\n",
       "    .dataframe tbody tr th:only-of-type {\n",
       "        vertical-align: middle;\n",
       "    }\n",
       "\n",
       "    .dataframe tbody tr th {\n",
       "        vertical-align: top;\n",
       "    }\n",
       "\n",
       "    .dataframe thead th {\n",
       "        text-align: right;\n",
       "    }\n",
       "</style>\n",
       "<table border=\"1\" class=\"dataframe\">\n",
       "  <thead>\n",
       "    <tr style=\"text-align: right;\">\n",
       "      <th></th>\n",
       "      <th>0</th>\n",
       "      <th>1</th>\n",
       "    </tr>\n",
       "  </thead>\n",
       "  <tbody>\n",
       "    <tr>\n",
       "      <th>0</th>\n",
       "      <td>ham</td>\n",
       "      <td>go until jurong point, crazy.. available only ...</td>\n",
       "    </tr>\n",
       "    <tr>\n",
       "      <th>1</th>\n",
       "      <td>ham</td>\n",
       "      <td>ok lar... joking wif u oni...</td>\n",
       "    </tr>\n",
       "    <tr>\n",
       "      <th>2</th>\n",
       "      <td>spam</td>\n",
       "      <td>free entry in 2 a wkly comp to win fa cup fina...</td>\n",
       "    </tr>\n",
       "    <tr>\n",
       "      <th>3</th>\n",
       "      <td>ham</td>\n",
       "      <td>u dun say so early hor... u c already then say...</td>\n",
       "    </tr>\n",
       "    <tr>\n",
       "      <th>4</th>\n",
       "      <td>ham</td>\n",
       "      <td>nah i don't think he goes to usf, he lives aro...</td>\n",
       "    </tr>\n",
       "  </tbody>\n",
       "</table>\n",
       "</div>"
      ],
      "text/plain": [
       "      0                                                  1\n",
       "0   ham  go until jurong point, crazy.. available only ...\n",
       "1   ham                      ok lar... joking wif u oni...\n",
       "2  spam  free entry in 2 a wkly comp to win fa cup fina...\n",
       "3   ham  u dun say so early hor... u c already then say...\n",
       "4   ham  nah i don't think he goes to usf, he lives aro..."
      ]
     },
     "execution_count": 4,
     "metadata": {},
     "output_type": "execute_result"
    }
   ],
   "source": [
    "df[1] = [row.lower() for row in df[1]]\n",
    "df.head()"
   ]
  },
  {
   "cell_type": "markdown",
   "metadata": {},
   "source": [
    "First we need to split into test and training sets"
   ]
  },
  {
   "cell_type": "code",
   "execution_count": 5,
   "metadata": {},
   "outputs": [],
   "source": [
    "train_df = df.sample(frac=0.7)\n",
    "test_df = df.drop(train_df.index)"
   ]
  },
  {
   "cell_type": "markdown",
   "metadata": {},
   "source": [
    "We now define a function that splits the SMS string into a list of words"
   ]
  },
  {
   "cell_type": "code",
   "execution_count": 6,
   "metadata": {},
   "outputs": [
    {
     "name": "stdout",
     "output_type": "stream",
     "text": [
      "['free', 'entry', 'in', '2', 'a', 'wkly', 'comp', 'to', 'win', 'fa', 'cup', 'final', 'tkts', '21st', 'may', '2005', 'text', 'fa', 'to', '87121', 'to', 'receive', 'entry', 'question', 'std', 'txt', 'rate', \"t&c's\", 'apply', \"08452810075over18's\"]\n",
      "['u', 'dun', 'say', 'so', 'early', 'hor', 'u', 'c', 'already', 'then', 'say']\n"
     ]
    }
   ],
   "source": [
    "def split(s):\n",
    "    \"\"\"Split string into a list of words\"\"\"\n",
    "    strings = re.split(\"[^A-Za-z0-9_&$£'%]+\",s)\n",
    "    #remove empty list items, which can happen at the end using this regex\n",
    "    strings = [x for x in strings if x]\n",
    "    return strings\n",
    "\n",
    "print(split(df[1][2]))\n",
    "print(split(df[1][3]))"
   ]
  },
  {
   "cell_type": "code",
   "execution_count": 8,
   "metadata": {},
   "outputs": [],
   "source": [
    "def train_row(row, dictionary):\n",
    "    #use a set to easily remove duplicate words (and this Naive Bayes classifier doesn't care about order)\n",
    "    words = set(split(row))\n",
    "    for w in words:\n",
    "        dictionary[w] = dictionary.get(w,0) + 1"
   ]
  },
  {
   "cell_type": "markdown",
   "metadata": {},
   "source": [
    "Create our training alogrithm.  We want to create a dictionary of ham & spam with count of each word in them.  We also use Laplace smoothing to adjust for words we haven't seen in our training set."
   ]
  },
  {
   "cell_type": "code",
   "execution_count": 7,
   "metadata": {},
   "outputs": [],
   "source": [
    "def train(df):\n",
    "    total_spam = 0\n",
    "    total_messages = df.shape[0]\n",
    "    \n",
    "    ham = {}\n",
    "    spam = {}\n",
    "    \n",
    "    for _, row in df.iterrows():\n",
    "        if row[0] == \"ham\":\n",
    "            train_row(row[1], ham)\n",
    "        else:\n",
    "            total_spam += 1\n",
    "            train_row(row[1], spam)\n",
    "\n",
    "    total_ham = total_messages - total_spam\n",
    "    \n",
    "    post_spam = total_spam/total_messages\n",
    "    \n",
    "    #loop through dictionaries to normalise & Laplace smooth\n",
    "    default_spam = 1/(total_spam + 2)\n",
    "    default_ham = 1/(total_ham + 2)\n",
    "    \n",
    "    for key in iter(ham):\n",
    "        ham[key] = (ham[key]+1)*default_ham\n",
    "    for key in iter(spam):\n",
    "        spam[key] = (spam[key]+1)*default_spam\n",
    "    \n",
    "    return spam, ham, post_spam, default_spam, default_ham"
   ]
  },
  {
   "cell_type": "markdown",
   "metadata": {},
   "source": [
    "Now we train using our training data"
   ]
  },
  {
   "cell_type": "code",
   "execution_count": 10,
   "metadata": {},
   "outputs": [],
   "source": [
    "spam, ham, post_spam, default_spam, default_ham = train(train_df)"
   ]
  },
  {
   "cell_type": "markdown",
   "metadata": {},
   "source": [
    "Create our testing alogrithm and test the accuracy of our classifier.  To reduce the rounding error that occurs we've calculated the probablility in a more obscure way."
   ]
  },
  {
   "cell_type": "code",
   "execution_count": 9,
   "metadata": {},
   "outputs": [],
   "source": [
    "def test_row(text):\n",
    "    words = set(split(text))\n",
    "    p_spam = post_spam\n",
    "    p_ham = 1-post_spam\n",
    "    cal = p_ham/p_spam\n",
    "    #includes Laplace smoothing for words we haven't seen yet by default values\n",
    "    #Calculates probability in a way that reduces rounding error\n",
    "    for w in words:\n",
    "        cal = cal * (ham.get(w, default_ham) / spam.get(w, default_spam))\n",
    "    prob = 1/(cal + 1)\n",
    "    return prob"
   ]
  },
  {
   "cell_type": "code",
   "execution_count": 11,
   "metadata": {},
   "outputs": [],
   "source": [
    "def test(df):\n",
    "    correct = 0\n",
    "    total = df.shape[0]\n",
    "    \n",
    "    for _, row in df.iterrows():\n",
    "        if row[0] == \"ham\" and test_row(row[1]) < 0.5:\n",
    "            correct += 1\n",
    "        elif row[0] == \"spam\" and test_row(row[1]) > 0.5:\n",
    "            correct += 1\n",
    "    \n",
    "    return correct/total"
   ]
  },
  {
   "cell_type": "code",
   "execution_count": 12,
   "metadata": {},
   "outputs": [
    {
     "name": "stdout",
     "output_type": "stream",
     "text": [
      "Naive Bayes multi-variate\n",
      "Training accuracy:  0.8566666666666667\n",
      "Test accuracy:  0.7685406698564593\n"
     ]
    }
   ],
   "source": [
    "print(\"Naive Bayes multi-variate\")\n",
    "print(\"Training accuracy: \", test(train_df))\n",
    "print(\"Test accuracy: \", test(test_df))"
   ]
  },
  {
   "cell_type": "markdown",
   "metadata": {},
   "source": [
    "We now build the multinomial event model of the Naive Bayes classifier.  We can reuse a lot of the above code and only need to modify some of the training code and slightly modify some of the testing code"
   ]
  },
  {
   "cell_type": "code",
   "execution_count": 13,
   "metadata": {},
   "outputs": [],
   "source": [
    "def train_row_MN(row, dictionary):\n",
    "    \"\"\"Returns number of words in the row\"\"\"\n",
    "    words = split(row)\n",
    "    n = len(words)\n",
    "    for w in words:\n",
    "        dictionary[w] = dictionary.get(w,0) + 1\n",
    "    return n"
   ]
  },
  {
   "cell_type": "code",
   "execution_count": 14,
   "metadata": {},
   "outputs": [],
   "source": [
    "def train_MN(df):\n",
    "    total_spam = 0\n",
    "    total_spam_len = 0\n",
    "    total_ham_len = 0\n",
    "    total_messages = df.shape[0]\n",
    "    \n",
    "    ham = {}\n",
    "    spam = {}\n",
    "    \n",
    "    for _, row in df.iterrows():\n",
    "        if row[0] == \"ham\":\n",
    "            total_ham_len += train_row_MN(row[1], ham)\n",
    "        else:\n",
    "            total_spam_len += train_row_MN(row[1], spam)\n",
    "            total_spam += 1\n",
    "  \n",
    "    post_spam = total_spam/total_messages\n",
    "    \n",
    "    \n",
    "    #Get the total unique number of words seen in both ham & spam by combining dictionaries and getting size\n",
    "    size_dict = len({**ham, **spam})\n",
    "    default_spam = 1/(total_spam_len + size_dict)\n",
    "    default_ham = 1/(total_ham_len + size_dict)\n",
    "    \n",
    "    #loop through dictionaries to normalise & Laplace smooth\n",
    "    for key in iter(ham):\n",
    "        ham[key] = (ham[key]+1)*default_ham\n",
    "    for key in iter(spam):\n",
    "        spam[key] = (spam[key]+1)*default_spam\n",
    "    \n",
    "    return spam, ham, post_spam, default_spam, default_ham"
   ]
  },
  {
   "cell_type": "code",
   "execution_count": 16,
   "metadata": {},
   "outputs": [],
   "source": [
    "    spam, ham, post_spam, default_spam, default_ham = train_MN(train_df)"
   ]
  },
  {
   "cell_type": "code",
   "execution_count": 17,
   "metadata": {},
   "outputs": [],
   "source": [
    "def test_row_MN(text):\n",
    "    words = split(text)\n",
    "    p_spam = post_spam\n",
    "    p_ham = 1-post_spam\n",
    "    cal = p_ham/p_spam\n",
    "    \n",
    "    #includes Laplace smoothing for words we haven't seen yet by default values\n",
    "    for w in words:\n",
    "        cal = cal * (ham.get(w, default_ham) / spam.get(w, default_spam))\n",
    "    \n",
    "    prob = 1/(1 + cal)\n",
    "    \n",
    "    return prob\n",
    "\n",
    "def test_MN(df):\n",
    "    correct = 0\n",
    "    total = df.shape[0]\n",
    "    \n",
    "    for _, row in df.iterrows():\n",
    "        if row[0] == \"ham\" and test_row_MN(row[1]) < 0.5:\n",
    "            correct += 1\n",
    "        elif row[0] == \"spam\" and test_row_MN(row[1]) > 0.5:\n",
    "            correct += 1\n",
    "            \n",
    "    return correct/total"
   ]
  },
  {
   "cell_type": "code",
   "execution_count": 18,
   "metadata": {
    "scrolled": true
   },
   "outputs": [
    {
     "name": "stdout",
     "output_type": "stream",
     "text": [
      "Naive Bayes multinomial:\n",
      "Training accuracy:  0.9951282051282051\n",
      "Test accuracy:  0.9742822966507177\n"
     ]
    }
   ],
   "source": [
    "print(\"Naive Bayes multinomial:\")\n",
    "print(\"Training accuracy: \", test_MN(train_df))\n",
    "print(\"Test accuracy: \", test_MN(test_df))"
   ]
  }
 ],
 "metadata": {
  "kernelspec": {
   "display_name": "Python 3",
   "language": "python",
   "name": "python3"
  },
  "language_info": {
   "codemirror_mode": {
    "name": "ipython",
    "version": 3
   },
   "file_extension": ".py",
   "mimetype": "text/x-python",
   "name": "python",
   "nbconvert_exporter": "python",
   "pygments_lexer": "ipython3",
   "version": "3.6.6"
  }
 },
 "nbformat": 4,
 "nbformat_minor": 2
}
